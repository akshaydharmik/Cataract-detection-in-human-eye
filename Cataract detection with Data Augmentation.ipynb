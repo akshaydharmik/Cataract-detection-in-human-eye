{
 "cells": [
  {
   "cell_type": "markdown",
   "metadata": {},
   "source": [
    "#### Import necessary libraries"
   ]
  },
  {
   "cell_type": "code",
   "execution_count": 2,
   "metadata": {
    "id": "0hJI6zvYSayA"
   },
   "outputs": [],
   "source": [
    "from keras.layers import Input,Lambda,Dense,Flatten\n",
    "from keras.models import Model\n",
    "from keras.applications.vgg16 import VGG16 #resnet50 Resnet50\n",
    "from keras.applications.vgg16 import preprocess_input\n",
    "from keras.preprocessing import image\n",
    "from keras.preprocessing.image import ImageDataGenerator\n",
    "from keras.models import Sequential\n",
    "import numpy as np\n",
    "from glob import glob\n",
    "from keras import layers\n",
    "from keras.applications import vgg16,inception_v3, resnet50"
   ]
  },
  {
   "cell_type": "markdown",
   "metadata": {},
   "source": [
    "#### mounting google drive"
   ]
  },
  {
   "cell_type": "code",
   "execution_count": 1,
   "metadata": {
    "colab": {
     "base_uri": "https://localhost:8080/"
    },
    "id": "e4lE_rNVKw2Q",
    "outputId": "c449578c-9743-47d8-d094-05727709561c"
   },
   "outputs": [
    {
     "name": "stdout",
     "output_type": "stream",
     "text": [
      "Mounted at /content/drive\n"
     ]
    }
   ],
   "source": [
    "# from google.colab import drive\n",
    "# drive.mount('/content/drive')"
   ]
  },
  {
   "cell_type": "markdown",
   "metadata": {},
   "source": [
    "#### defining VGG16 model"
   ]
  },
  {
   "cell_type": "code",
   "execution_count": 6,
   "metadata": {
    "id": "Gih4s0dRYW2z"
   },
   "outputs": [],
   "source": [
    "IMAGE_SIZE=[224,224]"
   ]
  },
  {
   "cell_type": "code",
   "execution_count": 8,
   "metadata": {
    "colab": {
     "base_uri": "https://localhost:8080/"
    },
    "id": "_E56Dqm6ZIZb",
    "outputId": "a52a8944-68cb-4a67-b0ff-ea9ba02600cc"
   },
   "outputs": [
    {
     "name": "stdout",
     "output_type": "stream",
     "text": [
      "Downloading data from https://storage.googleapis.com/tensorflow/keras-applications/vgg16/vgg16_weights_tf_dim_ordering_tf_kernels_notop.h5\n",
      "58892288/58889256 [==============================] - 0s 0us/step\n",
      "58900480/58889256 [==============================] - 0s 0us/step\n"
     ]
    }
   ],
   "source": [
    "vgg=VGG16(input_shape=IMAGE_SIZE+[3],weights='imagenet',include_top=False)"
   ]
  },
  {
   "cell_type": "code",
   "execution_count": 9,
   "metadata": {
    "id": "IZTYQOIMaO2L"
   },
   "outputs": [],
   "source": [
    "for layer in vgg.layers:\n",
    "  layer.trainable=False"
   ]
  },
  {
   "cell_type": "code",
   "execution_count": 14,
   "metadata": {
    "id": "p98M_hCPa1wa"
   },
   "outputs": [],
   "source": [
    "# Transfer learning\n",
    "model_vgg = Sequential()\n",
    "# model.add(vgg_model = vgg16.VGG16(weights='imagenet'))\n",
    "model_vgg.add(vgg)\n",
    "model_vgg.add(Dense(256, activation='relu'))\n",
    "model_vgg.add(layers.Dropout(rate=0.5))\n",
    "model_vgg.add(Dense(128, activation='sigmoid'))\n",
    "model_vgg.add(layers.Dropout(rate=0.2))\n",
    "model_vgg.add(Dense(128, activation='relu'))\n",
    "model_vgg.add(layers.Dropout(0.1))\n",
    "model_vgg.add(Flatten())\n",
    "model_vgg.add(Dense(2,activation=\"softmax\"))"
   ]
  },
  {
   "cell_type": "code",
   "execution_count": 15,
   "metadata": {
    "colab": {
     "base_uri": "https://localhost:8080/"
    },
    "id": "BzdjuSSILq8L",
    "outputId": "8ff23c33-bb28-47de-9220-d2468d91b889"
   },
   "outputs": [
    {
     "name": "stdout",
     "output_type": "stream",
     "text": [
      "Model: \"sequential_2\"\n",
      "_________________________________________________________________\n",
      "Layer (type)                 Output Shape              Param #   \n",
      "=================================================================\n",
      "vgg16 (Functional)           (None, 7, 7, 512)         14714688  \n",
      "_________________________________________________________________\n",
      "dense_5 (Dense)              (None, 7, 7, 256)         131328    \n",
      "_________________________________________________________________\n",
      "dropout_3 (Dropout)          (None, 7, 7, 256)         0         \n",
      "_________________________________________________________________\n",
      "dense_6 (Dense)              (None, 7, 7, 128)         32896     \n",
      "_________________________________________________________________\n",
      "dropout_4 (Dropout)          (None, 7, 7, 128)         0         \n",
      "_________________________________________________________________\n",
      "dense_7 (Dense)              (None, 7, 7, 128)         16512     \n",
      "_________________________________________________________________\n",
      "dropout_5 (Dropout)          (None, 7, 7, 128)         0         \n",
      "_________________________________________________________________\n",
      "flatten_1 (Flatten)          (None, 6272)              0         \n",
      "_________________________________________________________________\n",
      "dense_8 (Dense)              (None, 2)                 12546     \n",
      "=================================================================\n",
      "Total params: 14,907,970\n",
      "Trainable params: 193,282\n",
      "Non-trainable params: 14,714,688\n",
      "_________________________________________________________________\n"
     ]
    }
   ],
   "source": [
    "model_vgg.summary()"
   ]
  },
  {
   "cell_type": "code",
   "execution_count": 16,
   "metadata": {
    "id": "Pa4m6OS9cn6s"
   },
   "outputs": [],
   "source": [
    "model_vgg.compile(optimizer='adam',loss='categorical_crossentropy',metrics=['accuracy'])"
   ]
  },
  {
   "cell_type": "markdown",
   "metadata": {},
   "source": [
    "#### definig ImageDataGen objects for data augmentation"
   ]
  },
  {
   "cell_type": "code",
   "execution_count": 17,
   "metadata": {
    "id": "tEAXanDSd4gn"
   },
   "outputs": [],
   "source": [
    "# image augmentation\n",
    "train_datagen=ImageDataGenerator(rescale=1.0/255,\n",
    "                                 rotation_range=180,\n",
    "                                 horizontal_flip = True)\n",
    "test_datagen=ImageDataGenerator(rescale=1.0/255)"
   ]
  },
  {
   "cell_type": "code",
   "execution_count": null,
   "metadata": {},
   "outputs": [],
   "source": [
    "train_path='/content/drive/MyDrive/Datasets/cataract_detection/train'\n",
    "valid_path='/content/drive/MyDrive/Datasets/cataract_detection/test'"
   ]
  },
  {
   "cell_type": "code",
   "execution_count": 18,
   "metadata": {
    "colab": {
     "base_uri": "https://localhost:8080/"
    },
    "id": "q1qsoYpufPRv",
    "outputId": "235bccd2-6b36-4704-9d46-7351d7f1c263"
   },
   "outputs": [
    {
     "name": "stdout",
     "output_type": "stream",
     "text": [
      "Found 840 images belonging to 2 classes.\n"
     ]
    }
   ],
   "source": [
    "training_set=train_datagen.flow_from_directory(train_path,\n",
    "                                               target_size=(224,224),\n",
    "                                          class_mode='categorical',\n",
    "                                          batch_size=32)"
   ]
  },
  {
   "cell_type": "code",
   "execution_count": 19,
   "metadata": {
    "colab": {
     "base_uri": "https://localhost:8080/"
    },
    "id": "VrvLSx70gZ_x",
    "outputId": "8453723d-0f6c-4409-8546-008eface2842"
   },
   "outputs": [
    {
     "name": "stdout",
     "output_type": "stream",
     "text": [
      "Found 241 images belonging to 2 classes.\n"
     ]
    }
   ],
   "source": [
    "test_set=test_datagen.flow_from_directory(valid_path,\n",
    "                                          target_size=(224,224),\n",
    "                                          class_mode='categorical',\n",
    "                                          batch_size=32)"
   ]
  },
  {
   "cell_type": "markdown",
   "metadata": {
    "id": "1P1VMzmYgl2P"
   },
   "source": [
    "#### fitting the model"
   ]
  },
  {
   "cell_type": "code",
   "execution_count": 22,
   "metadata": {
    "id": "l2O_HmCQQgVM"
   },
   "outputs": [],
   "source": [
    "from keras.callbacks import ModelCheckpoint, EarlyStopping"
   ]
  },
  {
   "cell_type": "code",
   "execution_count": 23,
   "metadata": {
    "id": "duc4biqDQVE4"
   },
   "outputs": [],
   "source": [
    "\n",
    "earlystop = EarlyStopping(monitor = 'val_accuracy', # value being monitored for improvement\n",
    "                          min_delta = 0, #Abs value and is the min change required before we stop\n",
    "                          patience = 10, #Number of epochs we wait before stopping \n",
    "                          verbose = 1,\n",
    "                        restore_best_weights = True,mode='max') "
   ]
  },
  {
   "cell_type": "code",
   "execution_count": 28,
   "metadata": {
    "colab": {
     "base_uri": "https://localhost:8080/"
    },
    "id": "TuTceS61uTcd",
    "outputId": "b07f20e5-e8ee-4655-d91d-247cf58ba057"
   },
   "outputs": [
    {
     "name": "stderr",
     "output_type": "stream",
     "text": [
      "/usr/local/lib/python3.7/dist-packages/keras/engine/training.py:1915: UserWarning: `Model.fit_generator` is deprecated and will be removed in a future version. Please use `Model.fit`, which supports generators.\n",
      "  warnings.warn('`Model.fit_generator` is deprecated and '\n"
     ]
    },
    {
     "name": "stdout",
     "output_type": "stream",
     "text": [
      "Epoch 1/30\n",
      "27/27 [==============================] - 61s 2s/step - loss: 0.4401 - accuracy: 0.8274 - val_loss: 0.2919 - val_accuracy: 0.9046\n",
      "Epoch 2/30\n",
      "27/27 [==============================] - 61s 2s/step - loss: 0.4390 - accuracy: 0.8345 - val_loss: 0.3067 - val_accuracy: 0.8963\n",
      "Epoch 3/30\n",
      "27/27 [==============================] - 63s 2s/step - loss: 0.4160 - accuracy: 0.8417 - val_loss: 0.2401 - val_accuracy: 0.9129\n",
      "Epoch 4/30\n",
      "27/27 [==============================] - 64s 2s/step - loss: 0.4076 - accuracy: 0.8393 - val_loss: 0.2443 - val_accuracy: 0.9129\n",
      "Epoch 5/30\n",
      "27/27 [==============================] - 65s 2s/step - loss: 0.4019 - accuracy: 0.8321 - val_loss: 0.2725 - val_accuracy: 0.9004\n",
      "Epoch 6/30\n",
      "27/27 [==============================] - 63s 2s/step - loss: 0.4212 - accuracy: 0.8298 - val_loss: 0.2363 - val_accuracy: 0.9295\n",
      "Epoch 7/30\n",
      "27/27 [==============================] - 62s 2s/step - loss: 0.3964 - accuracy: 0.8429 - val_loss: 0.2261 - val_accuracy: 0.9295\n",
      "Epoch 8/30\n",
      "27/27 [==============================] - 61s 2s/step - loss: 0.3918 - accuracy: 0.8369 - val_loss: 0.2261 - val_accuracy: 0.9295\n",
      "Epoch 9/30\n",
      "27/27 [==============================] - 60s 2s/step - loss: 0.3938 - accuracy: 0.8524 - val_loss: 0.2136 - val_accuracy: 0.9378\n",
      "Epoch 10/30\n",
      "27/27 [==============================] - 60s 2s/step - loss: 0.3886 - accuracy: 0.8500 - val_loss: 0.2404 - val_accuracy: 0.9253\n",
      "Epoch 11/30\n",
      "27/27 [==============================] - 60s 2s/step - loss: 0.3948 - accuracy: 0.8417 - val_loss: 0.2227 - val_accuracy: 0.9212\n",
      "Epoch 12/30\n",
      "27/27 [==============================] - 60s 2s/step - loss: 0.3810 - accuracy: 0.8488 - val_loss: 0.2116 - val_accuracy: 0.9170\n",
      "Epoch 13/30\n",
      "27/27 [==============================] - 59s 2s/step - loss: 0.3927 - accuracy: 0.8405 - val_loss: 0.2352 - val_accuracy: 0.9253\n",
      "Epoch 14/30\n",
      "27/27 [==============================] - 59s 2s/step - loss: 0.3827 - accuracy: 0.8560 - val_loss: 0.2197 - val_accuracy: 0.9295\n",
      "Epoch 15/30\n",
      "27/27 [==============================] - 60s 2s/step - loss: 0.3732 - accuracy: 0.8524 - val_loss: 0.2238 - val_accuracy: 0.9336\n",
      "Epoch 16/30\n",
      "27/27 [==============================] - 59s 2s/step - loss: 0.3706 - accuracy: 0.8512 - val_loss: 0.2068 - val_accuracy: 0.9336\n",
      "Epoch 17/30\n",
      "27/27 [==============================] - 60s 2s/step - loss: 0.3769 - accuracy: 0.8548 - val_loss: 0.2177 - val_accuracy: 0.9336\n",
      "Epoch 18/30\n",
      "27/27 [==============================] - 59s 2s/step - loss: 0.4271 - accuracy: 0.8238 - val_loss: 0.3018 - val_accuracy: 0.9212\n",
      "Epoch 19/30\n",
      "27/27 [==============================] - 59s 2s/step - loss: 0.3927 - accuracy: 0.8524 - val_loss: 0.2167 - val_accuracy: 0.9212\n",
      "Restoring model weights from the end of the best epoch.\n",
      "Epoch 00019: early stopping\n"
     ]
    }
   ],
   "source": [
    "z_cont=model_vgg.fit_generator(training_set,validation_data=test_set,epochs=30,callbacks=earlystop)"
   ]
  },
  {
   "cell_type": "code",
   "execution_count": 30,
   "metadata": {
    "id": "GbRWHDm-XCJM"
   },
   "outputs": [],
   "source": [
    "import matplotlib.pyplot as plt"
   ]
  },
  {
   "cell_type": "code",
   "execution_count": 32,
   "metadata": {
    "colab": {
     "base_uri": "https://localhost:8080/",
     "height": 350
    },
    "id": "nWLRwsxShlGv",
    "outputId": "48520b56-347d-453e-ab38-eda24e1dec0d"
   },
   "outputs": [
    {
     "data": {
      "image/png": "[encoded data removed]",
      "text/plain": [
       "<Figure size 864x360 with 1 Axes>"
      ]
     },
     "metadata": {
      "needs_background": "light",
      "tags": []
     },
     "output_type": "display_data"
    }
   ],
   "source": [
    "plt.figure(figsize=(12,5))\n",
    "plt.title('Accuracy')\n",
    "plt.plot(z_cont.history['accuracy'],'r-', label='train')\n",
    "plt.plot(z_cont.history['val_accuracy'],'g-', label='test')\n",
    "plt.xticks([i for i in range(1,20)],[i for i in range(1,20)])\n",
    "plt.xlabel(\"Epochs\")\n",
    "plt.ylabel(\"Accuracy\")\n",
    "plt.legend()\n",
    "plt.show();"
   ]
  },
  {
   "cell_type": "code",
   "execution_count": null,
   "metadata": {
    "id": "f2AO9IMNuEYQ"
   },
   "outputs": [],
   "source": [
    "import matplotlib.pyplot as plt"
   ]
  },
  {
   "cell_type": "code",
   "execution_count": 33,
   "metadata": {
    "id": "aWZU_PN6uGxO"
   },
   "outputs": [],
   "source": [
    "model_vgg.save(\"/content/drive/MyDrive/Datasets/Eye Dissease/models/vgg_augmented_9378.h5\")"
   ]
  },
  {
   "cell_type": "markdown",
   "metadata": {
    "id": "cxcee70zZZLZ"
   },
   "source": [
    "#### Inception V3\n"
   ]
  },
  {
   "cell_type": "code",
   "execution_count": 34,
   "metadata": {
    "colab": {
     "base_uri": "https://localhost:8080/"
    },
    "id": "H_MLHV9BZM0K",
    "outputId": "0942795f-7008-44e5-fad3-b749d3f9c0ce"
   },
   "outputs": [
    {
     "name": "stdout",
     "output_type": "stream",
     "text": [
      "Downloading data from https://storage.googleapis.com/tensorflow/keras-applications/inception_v3/inception_v3_weights_tf_dim_ordering_tf_kernels_notop.h5\n",
      "87916544/87910968 [==============================] - 0s 0us/step\n",
      "87924736/87910968 [==============================] - 0s 0us/step\n"
     ]
    }
   ],
   "source": [
    "inception = inception_v3.InceptionV3(\n",
    "    weights='imagenet', \n",
    "    include_top=False,  \n",
    "    input_shape=(224,224,3)\n",
    ")"
   ]
  },
  {
   "cell_type": "markdown",
   "metadata": {},
   "source": [
    "#### Defining model"
   ]
  },
  {
   "cell_type": "code",
   "execution_count": 35,
   "metadata": {
    "id": "Oc3I1cPjZU3v"
   },
   "outputs": [],
   "source": [
    "model_inc = Sequential()\n",
    "model_inc.add(inception)\n",
    "model_inc.add(Dense(256, activation='relu'))\n",
    "model_inc.add(layers.Dropout(rate=0.5))\n",
    "model_inc.add(Dense(128, activation='sigmoid'))\n",
    "model_inc.add(layers.Dropout(rate=0.2))\n",
    "model_inc.add(Dense(128, activation='relu'))\n",
    "model_inc.add(layers.Dropout(0.1))\n",
    "model_inc.add(Flatten())\n",
    "model_inc.add(Dense(2,activation=\"softmax\"))"
   ]
  },
  {
   "cell_type": "code",
   "execution_count": 36,
   "metadata": {
    "colab": {
     "base_uri": "https://localhost:8080/"
    },
    "id": "JvbiZ_jqZoC6",
    "outputId": "95085a18-8d0d-4a07-e916-ba8bab23824e"
   },
   "outputs": [
    {
     "name": "stdout",
     "output_type": "stream",
     "text": [
      "Model: \"sequential_3\"\n",
      "_________________________________________________________________\n",
      "Layer (type)                 Output Shape              Param #   \n",
      "=================================================================\n",
      "inception_v3 (Functional)    (None, 5, 5, 2048)        21802784  \n",
      "_________________________________________________________________\n",
      "dense_9 (Dense)              (None, 5, 5, 256)         524544    \n",
      "_________________________________________________________________\n",
      "dropout_6 (Dropout)          (None, 5, 5, 256)         0         \n",
      "_________________________________________________________________\n",
      "dense_10 (Dense)             (None, 5, 5, 128)         32896     \n",
      "_________________________________________________________________\n",
      "dropout_7 (Dropout)          (None, 5, 5, 128)         0         \n",
      "_________________________________________________________________\n",
      "dense_11 (Dense)             (None, 5, 5, 128)         16512     \n",
      "_________________________________________________________________\n",
      "dropout_8 (Dropout)          (None, 5, 5, 128)         0         \n",
      "_________________________________________________________________\n",
      "flatten_2 (Flatten)          (None, 3200)              0         \n",
      "_________________________________________________________________\n",
      "dense_12 (Dense)             (None, 2)                 6402      \n",
      "=================================================================\n",
      "Total params: 22,383,138\n",
      "Trainable params: 22,348,706\n",
      "Non-trainable params: 34,432\n",
      "_________________________________________________________________\n"
     ]
    }
   ],
   "source": [
    "model_inc.summary()"
   ]
  },
  {
   "cell_type": "markdown",
   "metadata": {},
   "source": [
    "#### Fitting Model"
   ]
  },
  {
   "cell_type": "code",
   "execution_count": 37,
   "metadata": {
    "id": "YMgOXxtbZxgZ"
   },
   "outputs": [],
   "source": [
    "model_inc.compile(optimizer='adam',loss='categorical_crossentropy',metrics=['accuracy'])"
   ]
  },
  {
   "cell_type": "code",
   "execution_count": 39,
   "metadata": {
    "colab": {
     "base_uri": "https://localhost:8080/"
    },
    "id": "JpC0Sgu3Z5pr",
    "outputId": "a8f342e7-f30d-4c87-8ab2-aa97784ce616"
   },
   "outputs": [
    {
     "name": "stderr",
     "output_type": "stream",
     "text": [
      "/usr/local/lib/python3.7/dist-packages/keras/engine/training.py:1915: UserWarning: `Model.fit_generator` is deprecated and will be removed in a future version. Please use `Model.fit`, which supports generators.\n",
      "  warnings.warn('`Model.fit_generator` is deprecated and '\n"
     ]
    },
    {
     "name": "stdout",
     "output_type": "stream",
     "text": [
      "Epoch 1/30\n",
      "27/27 [==============================] - 95s 3s/step - loss: 0.5753 - accuracy: 0.7215 - val_loss: 1.4303 - val_accuracy: 0.4938\n",
      "Epoch 2/30\n",
      "27/27 [==============================] - 61s 2s/step - loss: 0.4518 - accuracy: 0.8137 - val_loss: 1.1342 - val_accuracy: 0.5062\n",
      "Epoch 3/30\n",
      "27/27 [==============================] - 61s 2s/step - loss: 0.4472 - accuracy: 0.8339 - val_loss: 0.3188 - val_accuracy: 0.8963\n",
      "Epoch 4/30\n",
      "27/27 [==============================] - 60s 2s/step - loss: 0.3839 - accuracy: 0.8410 - val_loss: 0.4532 - val_accuracy: 0.7967\n",
      "Epoch 5/30\n",
      "27/27 [==============================] - 60s 2s/step - loss: 0.3588 - accuracy: 0.8606 - val_loss: 0.3671 - val_accuracy: 0.9087\n",
      "Epoch 6/30\n",
      "27/27 [==============================] - 59s 2s/step - loss: 0.4046 - accuracy: 0.8469 - val_loss: 0.4215 - val_accuracy: 0.8631\n",
      "Epoch 7/30\n",
      "27/27 [==============================] - 60s 2s/step - loss: 0.4109 - accuracy: 0.8456 - val_loss: 0.6754 - val_accuracy: 0.6763\n",
      "Epoch 8/30\n",
      "27/27 [==============================] - 61s 2s/step - loss: 0.3548 - accuracy: 0.8610 - val_loss: 0.4206 - val_accuracy: 0.8423\n",
      "Epoch 9/30\n",
      "27/27 [==============================] - 61s 2s/step - loss: 0.2963 - accuracy: 0.8947 - val_loss: 0.1463 - val_accuracy: 0.9461\n",
      "Epoch 10/30\n",
      "27/27 [==============================] - 62s 2s/step - loss: 0.3368 - accuracy: 0.8707 - val_loss: 0.1649 - val_accuracy: 0.9419\n",
      "Epoch 11/30\n",
      "27/27 [==============================] - 66s 2s/step - loss: 0.3017 - accuracy: 0.8912 - val_loss: 0.1924 - val_accuracy: 0.9378\n",
      "Epoch 12/30\n",
      "27/27 [==============================] - 64s 2s/step - loss: 0.3571 - accuracy: 0.8647 - val_loss: 0.1975 - val_accuracy: 0.9627\n",
      "Epoch 13/30\n",
      "27/27 [==============================] - 65s 2s/step - loss: 0.2804 - accuracy: 0.8865 - val_loss: 0.2081 - val_accuracy: 0.9461\n",
      "Epoch 14/30\n",
      "27/27 [==============================] - 63s 2s/step - loss: 0.3223 - accuracy: 0.8649 - val_loss: 0.2204 - val_accuracy: 0.9087\n",
      "Epoch 15/30\n",
      "27/27 [==============================] - 63s 2s/step - loss: 0.3276 - accuracy: 0.8725 - val_loss: 0.2868 - val_accuracy: 0.9212\n",
      "Epoch 16/30\n",
      "27/27 [==============================] - 63s 2s/step - loss: 0.3564 - accuracy: 0.8563 - val_loss: 0.2006 - val_accuracy: 0.9295\n",
      "Epoch 17/30\n",
      "27/27 [==============================] - 65s 2s/step - loss: 0.3040 - accuracy: 0.8797 - val_loss: 0.3733 - val_accuracy: 0.8631\n",
      "Epoch 18/30\n",
      "27/27 [==============================] - 64s 2s/step - loss: 0.3171 - accuracy: 0.8861 - val_loss: 0.3714 - val_accuracy: 0.8423\n",
      "Epoch 19/30\n",
      "27/27 [==============================] - 66s 2s/step - loss: 0.2919 - accuracy: 0.8736 - val_loss: 0.1925 - val_accuracy: 0.9295\n",
      "Epoch 20/30\n",
      "27/27 [==============================] - 65s 2s/step - loss: 0.2735 - accuracy: 0.9062 - val_loss: 0.2465 - val_accuracy: 0.9046\n",
      "Epoch 21/30\n",
      "27/27 [==============================] - 63s 2s/step - loss: 0.2960 - accuracy: 0.8889 - val_loss: 0.2650 - val_accuracy: 0.9129\n",
      "Epoch 22/30\n",
      "27/27 [==============================] - 62s 2s/step - loss: 0.2764 - accuracy: 0.8928 - val_loss: 0.7023 - val_accuracy: 0.7925\n",
      "Restoring model weights from the end of the best epoch.\n",
      "Epoch 00022: early stopping\n"
     ]
    }
   ],
   "source": [
    "history_inception=model_inc.fit_generator(training_set,validation_data=test_set,epochs=30,callbacks=earlystop)"
   ]
  },
  {
   "cell_type": "code",
   "execution_count": 42,
   "metadata": {
    "colab": {
     "base_uri": "https://localhost:8080/",
     "height": 350
    },
    "id": "SQc5K1QVaE4G",
    "outputId": "48a00507-755e-4e56-88c8-7fed910d22b8"
   },
   "outputs": [
    {
     "data": {
      "image/png": "[encoded data removed]",
      "text/plain": [
       "<Figure size 864x360 with 1 Axes>"
      ]
     },
     "metadata": {
      "needs_background": "light",
      "tags": []
     },
     "output_type": "display_data"
    }
   ],
   "source": [
    "plt.figure(figsize=(12,5))\n",
    "plt.title('Accuracy')\n",
    "plt.plot(history_inception.history['accuracy'],'r-', label='train')\n",
    "plt.plot(history_inception.history['val_accuracy'],'g-', label='test')\n",
    "plt.xticks([i for i in range(1,23)],[i for i in range(1,23)])\n",
    "plt.xlabel(\"Epochs\")\n",
    "plt.ylabel(\"Accuracy\")\n",
    "plt.legend()\n",
    "plt.show();"
   ]
  },
  {
   "cell_type": "code",
   "execution_count": 43,
   "metadata": {
    "id": "bUYqxXVUhOow"
   },
   "outputs": [],
   "source": [
    "model_inc.save(\"/content/drive/MyDrive/Datasets/Eye Dissease/models/inception_9627.h5\")"
   ]
  },
  {
   "cell_type": "markdown",
   "metadata": {},
   "source": [
    "#### creating testing data for evaluating performance"
   ]
  },
  {
   "cell_type": "code",
   "execution_count": 54,
   "metadata": {
    "id": "ducqRA_3Lis0"
   },
   "outputs": [],
   "source": [
    "DATADIR_test=\"/content/drive/MyDrive/Datasets/cataract_detection/test/\"\n",
    "CATEGORIES=[\"cataract\",\"normal\"]"
   ]
  },
  {
   "cell_type": "code",
   "execution_count": 110,
   "metadata": {
    "id": "xGkdRYXuNQSn"
   },
   "outputs": [],
   "source": [
    "import os\n",
    "import cv2\n",
    "from tqdm import tqdm"
   ]
  },
  {
   "cell_type": "code",
   "execution_count": 140,
   "metadata": {
    "colab": {
     "base_uri": "https://localhost:8080/"
    },
    "id": "Yj0E4E-iMhGN",
    "outputId": "e2dc601e-288b-4bda-f519-e24ce0c6e8e5"
   },
   "outputs": [
    {
     "name": "stderr",
     "output_type": "stream",
     "text": [
      "100%|██████████| 119/119 [00:07<00:00, 15.41it/s]\n",
      "100%|██████████| 122/122 [00:07<00:00, 16.66it/s]\n"
     ]
    }
   ],
   "source": [
    "testing_data=[]\n",
    "\n",
    "def create_testing_data():\n",
    "  for category in CATEGORIES:\n",
    "    path = os.path.join(DATADIR_test,category) # paths to covid and normal dir\n",
    "    class_num = CATEGORIES.index(category)\n",
    "    for img in tqdm(os.listdir(path)):\n",
    "      try:\n",
    "        img_array = cv2.imread(os.path.join(path,img),cv2.IMREAD_COLOR)\n",
    "        img_array = cv2.cvtColor(img_array, cv2.COLOR_BGR2RGB)\n",
    "        new_array =cv2.resize(img_array, (224,224))\n",
    "        new_array=new_array*(1.0/255)\n",
    "        testing_data.append([new_array,class_num])\n",
    "      except Exception as e:\n",
    "        print(e)\n",
    "\n",
    "create_testing_data()"
   ]
  },
  {
   "cell_type": "code",
   "execution_count": 141,
   "metadata": {
    "colab": {
     "base_uri": "https://localhost:8080/"
    },
    "id": "GYowIcDLNkgm",
    "outputId": "f3ba5714-2136-41a8-dff5-2f8fdd949821"
   },
   "outputs": [
    {
     "data": {
      "text/plain": [
       "241"
      ]
     },
     "execution_count": 141,
     "metadata": {
      "tags": []
     },
     "output_type": "execute_result"
    }
   ],
   "source": [
    "len(testing_data)"
   ]
  },
  {
   "cell_type": "code",
   "execution_count": 143,
   "metadata": {
    "id": "DQmXo-TokyVG"
   },
   "outputs": [],
   "source": [
    "from keras.models import load_model"
   ]
  },
  {
   "cell_type": "code",
   "execution_count": 144,
   "metadata": {
    "id": "QpKr03hjmjVx"
   },
   "outputs": [],
   "source": [
    "model = load_model('/content/drive/MyDrive/Datasets/Eye Dissease/models/inception_9627.h5')"
   ]
  },
  {
   "cell_type": "code",
   "execution_count": 145,
   "metadata": {
    "colab": {
     "base_uri": "https://localhost:8080/"
    },
    "id": "e7fkq1R9tqUe",
    "outputId": "239cf4e9-bda1-420b-a1f8-9d8195786cce"
   },
   "outputs": [
    {
     "name": "stderr",
     "output_type": "stream",
     "text": [
      "/usr/local/lib/python3.7/dist-packages/keras/engine/sequential.py:450: UserWarning: `model.predict_classes()` is deprecated and will be removed after 2021-01-01. Please use instead:* `np.argmax(model.predict(x), axis=-1)`,   if your model does multi-class classification   (e.g. if it uses a `softmax` last-layer activation).* `(model.predict(x) > 0.5).astype(\"int32\")`,   if your model does binary classification   (e.g. if it uses a `sigmoid` last-layer activation).\n",
      "  warnings.warn('`model.predict_classes()` is deprecated and '\n"
     ]
    }
   ],
   "source": [
    "y_pred=[]\n",
    "y_actual=[]\n",
    "for data in tqdm(testing_data):\n",
    "  y_actual.append(data[1])\n",
    "  y_pred.append(model.predict_classes(data[0].reshape(1,224,224,3))[0])"
   ]
  },
  {
   "cell_type": "code",
   "execution_count": 149,
   "metadata": {
    "id": "eQ_Im-fDur3H"
   },
   "outputs": [],
   "source": [
    "from sklearn.metrics import accuracy_score,classification_report,confusion_matrix"
   ]
  },
  {
   "cell_type": "code",
   "execution_count": 150,
   "metadata": {
    "colab": {
     "base_uri": "https://localhost:8080/"
    },
    "id": "-LE5eaRRudKv",
    "outputId": "127dbba8-14f7-4405-aa4d-ae95b90c4e5b"
   },
   "outputs": [
    {
     "data": {
      "text/plain": [
       "0.9626556016597511"
      ]
     },
     "execution_count": 150,
     "metadata": {
      "tags": []
     },
     "output_type": "execute_result"
    }
   ],
   "source": [
    "accuracy_score(y_actual,y_pred)"
   ]
  },
  {
   "cell_type": "markdown",
   "metadata": {},
   "source": [
    "#### Classification Report"
   ]
  },
  {
   "cell_type": "code",
   "execution_count": 152,
   "metadata": {
    "colab": {
     "base_uri": "https://localhost:8080/"
    },
    "id": "qf2k-Nj4vbrB",
    "outputId": "ff9889d6-6207-4a77-92fa-8e4427d163c9",
    "scrolled": true
   },
   "outputs": [
    {
     "name": "stdout",
     "output_type": "stream",
     "text": [
      "              precision    recall  f1-score   support\n",
      "\n",
      "           0       0.97      0.95      0.96       122\n",
      "           1       0.95      0.97      0.96       119\n",
      "\n",
      "    accuracy                           0.96       241\n",
      "   macro avg       0.96      0.96      0.96       241\n",
      "weighted avg       0.96      0.96      0.96       241\n",
      "\n"
     ]
    }
   ],
   "source": [
    "print(classification_report(y_pred,y_actual))"
   ]
  },
  {
   "cell_type": "markdown",
   "metadata": {},
   "source": [
    "0 -- Cataract , 1 -- Normal"
   ]
  },
  {
   "cell_type": "markdown",
   "metadata": {},
   "source": [
    "#### Confusion Matrix"
   ]
  },
  {
   "cell_type": "code",
   "execution_count": 163,
   "metadata": {
    "id": "rjmmqcka1SpJ"
   },
   "outputs": [],
   "source": [
    "import scikitplot as skplt"
   ]
  },
  {
   "cell_type": "code",
   "execution_count": 166,
   "metadata": {
    "colab": {
     "base_uri": "https://localhost:8080/",
     "height": 327
    },
    "id": "Ry1W0MSBnkEP",
    "outputId": "912d61a0-3b6d-43ae-ff08-0f1be15541f7"
   },
   "outputs": [
    {
     "data": {
      "text/plain": [
       "<matplotlib.axes._subplots.AxesSubplot at 0x7f77408e2ed0>"
      ]
     },
     "execution_count": 166,
     "metadata": {
      "tags": []
     },
     "output_type": "execute_result"
    },
    {
     "data": {
      "image/png": "[encoded data removed]",
      "text/plain": [
       "<Figure size 504x288 with 2 Axes>"
      ]
     },
     "metadata": {
      "needs_background": "light",
      "tags": []
     },
     "output_type": "display_data"
    }
   ],
   "source": [
    "skplt.metrics.plot_confusion_matrix(\n",
    "    y_actual, \n",
    "    y_pred,\n",
    "    figsize=(7,4),\n",
    "    title_fontsize='18',\n",
    "    text_fontsize='16',\n",
    "    title =' '\n",
    "    )"
   ]
  },
  {
   "cell_type": "markdown",
   "metadata": {
    "id": "pCOixeSbngPY"
   },
   "source": [
    "#### from aboe results I can see that Inception V3 gives the best results and I got an accuracy of 96 % using it."
   ]
  },
  {
   "cell_type": "markdown",
   "metadata": {},
   "source": [
    "#### ---------------------------------------------------------------------  Thank you   -----------------------------------------------------------------"
   ]
  }
 ],
 "metadata": {
  "colab": {
   "collapsed_sections": [],
   "name": "Data Augmentation and Transfer learning.ipynb",
   "provenance": []
  },
  "kernelspec": {
   "display_name": "Python 3",
   "language": "python",
   "name": "python3"
  },
  "language_info": {
   "codemirror_mode": {
    "name": "ipython",
    "version": 3
   },
   "file_extension": ".py",
   "mimetype": "text/x-python",
   "name": "python",
   "nbconvert_exporter": "python",
   "pygments_lexer": "ipython3",
   "version": "3.8.5"
  }
 },
 "nbformat": 4,
 "nbformat_minor": 1
}
